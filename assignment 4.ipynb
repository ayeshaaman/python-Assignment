{
 "cells": [
  {
   "cell_type": "code",
   "execution_count": 4,
   "metadata": {},
   "outputs": [
    {
     "name": "stdout",
     "output_type": "stream",
     "text": [
      "ali\n",
      "khan\n",
      "43\n",
      "isl\n",
      "bscs\n"
     ]
    }
   ],
   "source": [
    "person = {\n",
    "    'first_name': 'ali',\n",
    "    'last_name': 'khan',\n",
    "    'age': 43,\n",
    "    'city': 'isl',\n",
    "    'qualification':'bscs'\n",
    "    }\n",
    "\n",
    "print(person['first_name'])\n",
    "print(person['last_name'])\n",
    "print(person['age'])\n",
    "print(person['city'])\n",
    "print(person['qualification'])"
   ]
  },
  {
   "cell_type": "code",
   "execution_count": 5,
   "metadata": {},
   "outputs": [
    {
     "name": "stdout",
     "output_type": "stream",
     "text": [
      "Pakistan, Karachi\n",
      "India, Delhi\n",
      "Dubai, Abudhabi\n"
     ]
    }
   ],
   "source": [
    "def city_country(city, country):\n",
    "    \n",
    "    return(city.title() + \", \" + country.title())\n",
    "\n",
    "city = city_country('pakistan', 'karachi')\n",
    "print(city)\n",
    "\n",
    "city = city_country('india', 'delhi')\n",
    "print(city)\n",
    "\n",
    "city = city_country('dubai', 'abudhabi')\n",
    "print(city)"
   ]
  },
  {
   "cell_type": "code",
   "execution_count": 6,
   "metadata": {},
   "outputs": [
    {
     "name": "stdout",
     "output_type": "stream",
     "text": [
      "1 lakh\n",
      "2 lakh\n",
      "3 lakh\n",
      "4 lakh\n",
      "population\n"
     ]
    }
   ],
   "source": [
    "country = {\n",
    "    'karachi': '1 lakh',\n",
    "    'islamabad': '2 lakh',\n",
    "    'lahore': '3 lakh',\n",
    "    'peshawar': '4 lakh',\n",
    "    'city':'population'\n",
    "    }\n",
    "\n",
    "print(country['karachi'])\n",
    "print(country['islamabad'])\n",
    "print(country['lahore'])\n",
    "print(country['peshawar'])\n",
    "print(country['city'])"
   ]
  },
  {
   "cell_type": "code",
   "execution_count": null,
   "metadata": {},
   "outputs": [],
   "source": [
    "prompt = \"How old are you?\"\n",
    "prompt += \"\\nEnter 'quit' when you are finished. \"\n",
    "\n",
    "while True:\n",
    "    age = input(prompt)\n",
    "    if age == 'quit':\n",
    "        break\n",
    "    age = int(age)\n",
    "\n",
    "    if age < 3:\n",
    "        print(\"  You get in free!\")\n",
    "    elif age < 13:\n",
    "        print(\"  Your ticket is $10.\")\n",
    "    else:\n",
    "        print(\"  Your ticket is $15.\")"
   ]
  },
  {
   "cell_type": "code",
   "execution_count": null,
   "metadata": {},
   "outputs": [],
   "source": [
    "prompt = \"How old are you?\"\n",
    "prompt += \"\\nEnter 'quit' when you are finished. \"\n",
    "\n",
    "while True:\n",
    "    age = input(prompt)\n",
    "    if age == 'quit':\n",
    "        break\n",
    "    age = int(age)\n",
    "\n",
    "    if age < 3:\n",
    "        print(\"  You get in free!\")\n",
    "    elif age < 13:\n",
    "        print(\"  Your ticket is $10.\")\n",
    "    else:\n",
    "        print(\"  Your ticket is $15.\")"
   ]
  },
  {
   "cell_type": "code",
   "execution_count": null,
   "metadata": {},
   "outputs": [],
   "source": [
    "def favorite_book(title):\n",
    "    \n",
    "    print(title + \" is one of my favorite books.\")\n",
    "\n",
    "favorite_book('alice in wonderland')"
   ]
  },
  {
   "cell_type": "code",
   "execution_count": null,
   "metadata": {},
   "outputs": [],
   "source": [
    "mport random\n",
    "\n",
    " 3.\n",
    "\n",
    " 4. guessesTaken = 0\n",
    "\n",
    " 5.\n",
    "\n",
    " 6. print('Hello! What is your name?')\n",
    "\n",
    " 7. myName = input()\n",
    "\n",
    " 8.\n",
    "\n",
    " 9. number = random.randint(1, 20)\n",
    "\n",
    "10. print('Well, ' + myName + ', I am thinking of a number between 1 and 20.')\n",
    "\n",
    "11.\n",
    "\n",
    "12. while guessesTaken < 6:\n",
    "\n",
    "13.     print('Take a guess.') # There are four spaces in front of print.\n",
    "\n",
    "14.     guess = input()\n",
    "\n",
    "15.     guess = int(guess)\n",
    "\n",
    "16.\n",
    "\n",
    "17.     guessesTaken = guessesTaken + 1\n",
    "\n",
    "18.\n",
    "\n",
    "19.     if guess < number:\n",
    "\n",
    "20.         print('Your guess is too low.') # There are eight spaces in front of print.\n",
    "\n",
    "21.\n",
    "\n",
    "22.     if guess > number:\n",
    "\n",
    "23.         print('Your guess is too high.')\n",
    "\n",
    "24.\n",
    "\n",
    "25.     if guess == number:\n",
    "\n",
    "26.         break\n",
    "\n",
    "27.\n",
    "\n",
    "28. if guess == number:\n",
    "\n",
    "29.     guessesTaken = str(guessesTaken)\n",
    "\n",
    "30.     print('Good job, ' + myName + '! You guessed my number in ' + guessesTaken + ' guesses!')\n",
    "\n",
    "31.\n",
    "\n",
    "32. if guess != number:\n",
    "\n",
    "33.     number = str(number)\n",
    "\n",
    "34.     print('Nope. The number I was thinking of was ' + number)"
   ]
  },
  {
   "cell_type": "code",
   "execution_count": null,
   "metadata": {},
   "outputs": [],
   "source": []
  }
 ],
 "metadata": {
  "kernelspec": {
   "display_name": "Python 3",
   "language": "python",
   "name": "python3"
  },
  "language_info": {
   "codemirror_mode": {
    "name": "ipython",
    "version": 3
   },
   "file_extension": ".py",
   "mimetype": "text/x-python",
   "name": "python",
   "nbconvert_exporter": "python",
   "pygments_lexer": "ipython3",
   "version": "3.7.4"
  }
 },
 "nbformat": 4,
 "nbformat_minor": 2
}
