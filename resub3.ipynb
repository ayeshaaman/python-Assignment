{
 "cells": [
  {
   "cell_type": "code",
   "execution_count": null,
   "metadata": {},
   "outputs": [
    {
     "name": "stdout",
     "output_type": "stream",
     "text": [
      "Operation to perform:\n",
      "1. Addition\n",
      "2. Subtraction\n",
      "3. Multiplication\n",
      "4. Division\n",
      "5. Raising a power to number\n"
     ]
    }
   ],
   "source": [
    "print(\"Operation to perform:\");\n",
    "print(\"1. Addition\");\n",
    "print(\"2. Subtraction\");\n",
    "print(\"3. Multiplication\");\n",
    "print(\"4. Division\");\n",
    "print(\"5. Raising a power to number\");\n",
    "\n",
    "choice = input(\"Enter choice: \");\n",
    "\n",
    "num1 = int(input(\"Enter first number: \"));\n",
    "num2 = int(input(\"Enter second number: \"));\n",
    "\n",
    "\n",
    "if choice == '1':\n",
    "   print(num1, \"+\" ,num2, \"=\", addition(num1, num2));\n",
    "\n",
    "elif choice == '2':\n",
    "   print(num1, \"-\", num2, \"=\", subtraction(num1, num2));\n",
    "\n",
    "elif choice == '3':\n",
    "   print(num1, \"*\", num2, \"=\", multiplication(num1, num2));\n",
    "\n",
    "elif choice == '4':\n",
    "   print(num1, \"/\", num2, \"=\", division(num1, num2));\n",
    "\n",
    "elif choice == '5':\n",
    "   print(num1, \"**\", num2, \"=\", raisePower(num1, num2));\n",
    "\n",
    "else:\n",
    "   print(\"Please select a valid input.\");"
   ]
  },
  {
   "cell_type": "code",
   "execution_count": null,
   "metadata": {},
   "outputs": [],
   "source": [
    "d = {0:10, 1:20}\n",
    "print(d)\n",
    "d.update({2:30})\n",
    "print(d)"
   ]
  },
  {
   "cell_type": "code",
   "execution_count": null,
   "metadata": {},
   "outputs": [],
   "source": [
    "my_dict = {'data1':100,'data2':-54,'data3':247}\n",
    "print(sum(my_dict.values()))"
   ]
  },
  {
   "cell_type": "code",
   "execution_count": null,
   "metadata": {},
   "outputs": [],
   "source": [
    "final_list = []\n",
    "    for num in list:\n",
    "        if num not in final_list:\n",
    "            final_list.append(num)\n",
    "        else:\n",
    "            print(num)\n",
    "    return final_list"
   ]
  },
  {
   "cell_type": "code",
   "execution_count": null,
   "metadata": {},
   "outputs": [],
   "source": [
    "d={'A':1,'B':2,'C':3}\n",
    "key=raw_input(\"Enter key to check:\")\n",
    "if key in d.keys():\n",
    "      print(\"Key is present and value of the key is:\")\n",
    "      print(d[key])\n",
    "else:\n",
    "      print(\"Key isn't present!\")"
   ]
  },
  {
   "cell_type": "code",
   "execution_count": null,
   "metadata": {},
   "outputs": [],
   "source": []
  }
 ],
 "metadata": {
  "kernelspec": {
   "display_name": "Python 3",
   "language": "python",
   "name": "python3"
  },
  "language_info": {
   "codemirror_mode": {
    "name": "ipython",
    "version": 3
   },
   "file_extension": ".py",
   "mimetype": "text/x-python",
   "name": "python",
   "nbconvert_exporter": "python",
   "pygments_lexer": "ipython3",
   "version": "3.7.4"
  }
 },
 "nbformat": 4,
 "nbformat_minor": 2
}
